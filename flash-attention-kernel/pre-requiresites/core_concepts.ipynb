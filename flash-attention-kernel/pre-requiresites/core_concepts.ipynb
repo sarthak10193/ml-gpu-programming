{
 "cells": [
  {
   "cell_type": "markdown",
   "metadata": {},
   "source": [
    "# Strides and Memory Layouts\n"
   ]
  },
  {
   "cell_type": "code",
   "execution_count": 1,
   "metadata": {},
   "outputs": [
    {
     "data": {
      "text/plain": [
       "torch.Size([8, 4092, 64, 128])"
      ]
     },
     "execution_count": 1,
     "metadata": {},
     "output_type": "execute_result"
    }
   ],
   "source": [
    "import torch \n",
    "B = 8\n",
    "S = 4092\n",
    "NUM_HEADS_Q = 64\n",
    "DIM_PER_HEAD = 128 \n",
    "a = torch.ones([B, S, NUM_HEADS_Q, DIM_PER_HEAD], dtype=torch.float16)\n",
    "a.shape"
   ]
  },
  {
   "cell_type": "code",
   "execution_count": 11,
   "metadata": {},
   "outputs": [
    {
     "name": "stdout",
     "output_type": "stream",
     "text": [
      "number of jumps required in memory to get to next batch: 33521664\n",
      "number of jumps required in memory to get to sequence: 8192\n"
     ]
    }
   ],
   "source": [
    "print(f\"number of jumps required in memory to get to next batch: {a.stride(dim=0)}\")\n",
    "assert a.stride(dim=0) == S * NUM_HEADS_Q * DIM_PER_HEAD, \"wrong logic for batch stride calculation\"\n",
    "\n",
    "print(f\"number of jumps required in memory to get to sequence: {a.stride(dim=1)}\")\n",
    "assert a.stride(dim=1) == NUM_HEADS_Q * DIM_PER_HEAD, \"wrong logic for sequence stride calculation\""
   ]
  },
  {
   "cell_type": "markdown",
   "metadata": {},
   "source": [
    "## Contigous [Row Major]\n",
    "\n",
    "## Non-Contiguous/Transpose [Col Major]"
   ]
  },
  {
   "cell_type": "markdown",
   "metadata": {},
   "source": []
  },
  {
   "cell_type": "markdown",
   "metadata": {},
   "source": [
    "Attention Layouts\n",
    "* bshd - batch, seq len,  heads, dim_per_head\n",
    "* bhsd -> batch, heads, sequence len, dim_per_head\n",
    "* thd -> token, heads, dim_per_head"
   ]
  },
  {
   "cell_type": "markdown",
   "metadata": {},
   "source": []
  }
 ],
 "metadata": {
  "kernelspec": {
   "display_name": "py311-ts",
   "language": "python",
   "name": "python3"
  },
  "language_info": {
   "codemirror_mode": {
    "name": "ipython",
    "version": 3
   },
   "file_extension": ".py",
   "mimetype": "text/x-python",
   "name": "python",
   "nbconvert_exporter": "python",
   "pygments_lexer": "ipython3",
   "version": "3.11.7"
  }
 },
 "nbformat": 4,
 "nbformat_minor": 2
}
